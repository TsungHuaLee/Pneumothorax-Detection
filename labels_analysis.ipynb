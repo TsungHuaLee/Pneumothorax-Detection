{
 "cells": [
  {
   "cell_type": "code",
   "execution_count": 1,
   "metadata": {},
   "outputs": [],
   "source": [
    "%matplotlib inline\n",
    "\n",
    "import numpy as np\n",
    "import matplotlib.pyplot as plt\n",
    "import os\n",
    "import pickle\n",
    "from PIL import Image\n"
   ]
  },
  {
   "cell_type": "code",
   "execution_count": 63,
   "metadata": {},
   "outputs": [],
   "source": [
    "path = './abnormal_json_to_data/'\n",
    "all_folders = os.listdir(path)"
   ]
  },
  {
   "cell_type": "code",
   "execution_count": 64,
   "metadata": {},
   "outputs": [],
   "source": [
    "def crop_image(image):\n",
    "    result = list()\n",
    "    for y in range(12):\n",
    "        for x in range(12):\n",
    "            bbox = (x * 32, y * 32, x * 32 + 128, y * 32 + 128)\n",
    "            result.append(np.array(image.crop(bbox)))\n",
    "    return result\n",
    "\n",
    "def load_label():\n",
    "    origin = list()\n",
    "    croped = list()\n",
    "    for folder in all_folders:\n",
    "        label = Image.open(path + folder + '/label.png')\n",
    "        label = label.resize((512,512))\n",
    "        crop = crop_image(label)\n",
    "        origin.append(np.array(label))\n",
    "        croped.append(np.array(crop))\n",
    "    return np.array(origin), np.array(croped)"
   ]
  },
  {
   "cell_type": "code",
   "execution_count": 65,
   "metadata": {},
   "outputs": [],
   "source": [
    "all_labels, all_croped_labels = load_label()"
   ]
  },
  {
   "cell_type": "code",
   "execution_count": 66,
   "metadata": {},
   "outputs": [
    {
     "data": {
      "text/plain": [
       "<function BufferedWriter.close>"
      ]
     },
     "execution_count": 66,
     "metadata": {},
     "output_type": "execute_result"
    }
   ],
   "source": [
    "fo = open('all_labels.pkl', 'wb')\n",
    "fc = open('all_croped_labels.pkl', 'wb')\n",
    "pickle.dump(all_labels, fo)\n",
    "pickle.dump(all_croped_labels, fc)\n",
    "fo.close\n",
    "fc.close"
   ]
  },
  {
   "cell_type": "code",
   "execution_count": 67,
   "metadata": {},
   "outputs": [
    {
     "name": "stdout",
     "output_type": "stream",
     "text": [
      "all labels shape: (51, 512, 512)\n",
      "all croped labels shape: (51, 144, 128, 128)\n"
     ]
    }
   ],
   "source": [
    "fo = open('all_labels.pkl', 'rb')\n",
    "fc = open('all_croped_labels.pkl', 'rb')\n",
    "all_labels = pickle.load(fo)\n",
    "all_croped_labels = pickle.load(fc)\n",
    "fo.close\n",
    "fc.close\n",
    "\n",
    "print('all labels shape: {}'.format(all_labels.shape))\n",
    "print('all croped labels shape: {}'.format(all_croped_labels.shape))"
   ]
  },
  {
   "cell_type": "code",
   "execution_count": 68,
   "metadata": {},
   "outputs": [],
   "source": [
    "def count_origin_segement_pixel(labels):\n",
    "    result = list()\n",
    "    for label in labels:\n",
    "        pixels = len(label[label == 1])\n",
    "        result.append(pixels)\n",
    "    return np.array(result)\n",
    "\n",
    "def count_croped_segement_pixel(lables):\n",
    "    result = list()\n",
    "    for label in lables:\n",
    "        temp = list()\n",
    "        for croped_label in label:\n",
    "            pixels = len(croped_label[croped_label == 1])\n",
    "            temp.append(pixels)\n",
    "        result.append(np.array(temp))\n",
    "    return np.array(result)"
   ]
  },
  {
   "cell_type": "code",
   "execution_count": 69,
   "metadata": {},
   "outputs": [
    {
     "name": "stdout",
     "output_type": "stream",
     "text": [
      "orig segement pixels: \n",
      "[ 8240 26782 14128 24448  4794 16403 16734  9339 22350  6142  5652 11842\n",
      " 34645 14821  8437  3706  5083  8098  2766 34998 19197  7239  5419 41637\n",
      " 19906  8669  5541 34845 14495 12504 29750 14261 18843 14360 36102  6028\n",
      " 37764  5291  4577  6161 19593 36136 45950 16340 19091 16673  5722 29096\n",
      "  6613  6948 41180]\n",
      "length: 51\n",
      "\n",
      "croped segement pixels: \n",
      "[[ 159 1008 1728 ...    0    0    0]\n",
      " [   0    0    0 ... 1125 1563 1450]\n",
      " [   0    0    0 ...  253  421  421]\n",
      " ...\n",
      " [  48  624 1656 ...    0    0    0]\n",
      " [   0    0    0 ...    0    0    0]\n",
      " [   0    0    0 ... 1791 5108 9071]]\n",
      "length: 51\n"
     ]
    }
   ],
   "source": [
    "orig_segement_pixels =  count_origin_segement_pixel(all_labels)\n",
    "croped_segement_pixels = count_croped_segement_pixel(all_croped_labels)\n",
    "print('orig segement pixels: \\n%s' %(orig_segement_pixels))\n",
    "print('length: %s\\n' %(len(orig_segement_pixels)))\n",
    "print('croped segement pixels: \\n%s' %(croped_segement_pixels))\n",
    "print('length: %s' %(len(croped_segement_pixels)))"
   ]
  },
  {
   "cell_type": "code",
   "execution_count": 70,
   "metadata": {},
   "outputs": [
    {
     "name": "stdout",
     "output_type": "stream",
     "text": [
      "orig mean: 16967.431\n",
      "orig std: 11918.135\n",
      "orig median: 14360.000\n",
      "croped mean: 1387.639\n",
      "croped std: 2778.338\n",
      "croped median: 0.000\n"
     ]
    }
   ],
   "source": [
    "orig_mean = np.mean(orig_segement_pixels)\n",
    "orig_std = np.std(orig_segement_pixels)\n",
    "orig_median = np.median(orig_segement_pixels)\n",
    "croped_mean = np.mean(croped_segement_pixels)\n",
    "croped_std = np.std(croped_segement_pixels)\n",
    "croped_median = np.median(croped_segement_pixels)\n",
    "print('orig mean: %0.3f' %(orig_mean))\n",
    "print('orig std: %0.3f' %(orig_std))\n",
    "print('orig median: %0.3f' %(orig_median))\n",
    "print('croped mean: %0.3f' %(croped_mean))\n",
    "print('croped std: %0.3f' %(croped_std))\n",
    "print('croped median: %0.3f' %(croped_median))"
   ]
  },
  {
   "cell_type": "code",
   "execution_count": 71,
   "metadata": {},
   "outputs": [],
   "source": [
    "def size_classification(mean, std, pixels):\n",
    "    result = {'small':list(), 'median':list(), 'large':list()}\n",
    "    for i, pixel_num in enumerate(pixels):\n",
    "        if(pixel_num < mean - std):\n",
    "            result['small'].append(all_folders[i])\n",
    "        elif(pixel_num > mean + std):\n",
    "            result['large'].append(all_folders[i])\n",
    "        else:\n",
    "            result['median'].append(all_folders[i])\n",
    "    return result"
   ]
  },
  {
   "cell_type": "code",
   "execution_count": 72,
   "metadata": {},
   "outputs": [
    {
     "name": "stdout",
     "output_type": "stream",
     "text": [
      "{'small': ['0001-I0000163', '0001-I0149605', '0001-I0149611', '0001-I0150641'], 'median': ['0001-I0000158', '0001-I0000159', '0001-I0000161', '0001-I0000162', '0001-I0000166', '0001-I0148852', '0001-I0148854', '0001-I0148855', '0001-I0148857', '0001-I0148858', '0001-I0148859', '0001-I0149599', '0001-I0149603', '0001-I0149607', '0001-I0149610', '0001-I0149616', '0001-I0149617', '0001-I0149618', '0001-I0149621', '0001-I0149622', '0001-I0149623', '0001-I0149625', '0001-I0149626', '0001-I0150631', '0001-I0150633', '0001-I0150635', '0001-I0150637', '0001-I0150639', '0001-I0150643', '0001-I0150644', '0001-I0150648', '1', '2', '3', '6', '8'], 'large': ['0001-I0148861', '0001-I0149614', '0001-I0149619', '0001-I0149624', '0001-I0150629', '0001-I0150636', '0001-I0150638', '0001-I0150645', '0001-I0150647', '5', '9']}\n"
     ]
    }
   ],
   "source": [
    "size_class = size_classification(orig_mean, orig_std, orig_segement_pixels)\n",
    "print(size_class)"
   ]
  },
  {
   "cell_type": "code",
   "execution_count": 73,
   "metadata": {},
   "outputs": [],
   "source": [
    "def count_img_num_by_pixel(pixels):\n",
    "    reslut = dict()\n",
    "    for pixel_num in pixels:\n",
    "        img_num = reslut.get(pixel_num, 0)\n",
    "        reslut[pixel_num] = img_num + 1\n",
    "    return reslut\n",
    "        \n",
    "def count_corped_img_num_by_pixel(pixels):\n",
    "    result = dict()\n",
    "    for row in pixels:\n",
    "        for element in row:\n",
    "            img_num = result.get(element, 0)\n",
    "            result[element] = img_num + 1\n",
    "    return result\n"
   ]
  },
  {
   "cell_type": "code",
   "execution_count": 74,
   "metadata": {},
   "outputs": [
    {
     "data": {
      "text/plain": [
       "<BarContainer object of 51 artists>"
      ]
     },
     "execution_count": 74,
     "metadata": {},
     "output_type": "execute_result"
    },
    {
     "data": {
      "image/png": "[encoded data removed]",
      "text/plain": [
       "<Figure size 1296x216 with 1 Axes>"
      ]
     },
     "metadata": {
      "needs_background": "light"
     },
     "output_type": "display_data"
    }
   ],
   "source": [
    "orig_statistic = count_img_num_by_pixel(orig_segement_pixels)\n",
    "plt.subplots(figsize=(18,3))\n",
    "plt.bar(orig_statstic.keys(), orig_statstic.values(),100)"
   ]
  },
  {
   "cell_type": "code",
   "execution_count": 75,
   "metadata": {},
   "outputs": [
    {
     "data": {
      "image/png": "[encoded data removed]",
      "text/plain": [
       "<Figure size 720x360 with 1 Axes>"
      ]
     },
     "metadata": {
      "needs_background": "light"
     },
     "output_type": "display_data"
    }
   ],
   "source": [
    "crop_statistic = count_corped_img_num_by_pixel(croped_segement_pixels)\n",
    "plt.subplots(figsize=(10,5))\n",
    "plt.ylim(0,20)\n",
    "plt.bar(crop_statstic.keys(), crop_statstic.values(), 100)"
   ]
  },
  {
   "cell_type": "code",
   "execution_count": null,
   "metadata": {},
   "outputs": [],
   "source": []
  }
 ],
 "metadata": {
  "kernelspec": {
   "display_name": "Python 3",
   "language": "python",
   "name": "python3"
  },
  "language_info": {
   "codemirror_mode": {
    "name": "ipython",
    "version": 3
   },
   "file_extension": ".py",
   "mimetype": "text/x-python",
   "name": "python",
   "nbconvert_exporter": "python",
   "pygments_lexer": "ipython3",
   "version": "3.6.9"
  }
 },
 "nbformat": 4,
 "nbformat_minor": 2
}
